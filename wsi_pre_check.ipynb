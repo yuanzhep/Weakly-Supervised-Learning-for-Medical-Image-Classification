{
  "cells": [
    {
      "cell_type": "code",
      "execution_count": null,
      "id": "d9e220f5",
      "metadata": {
        "id": "d9e220f5"
      },
      "outputs": [],
      "source": [
        "import json\n",
        "import gdown\n",
        "import pandas as pd"
      ]
    },
    {
      "cell_type": "code",
      "execution_count": null,
      "id": "76c5aa6f",
      "metadata": {
        "id": "76c5aa6f",
        "outputId": "ea903948-c132-4cb2-b585-635d8bcea186"
      },
      "outputs": [
        {
          "name": "stdout",
          "output_type": "stream",
          "text": [
            "\u001b[34mTCGA-lung-WSI\u001b[m\u001b[m/         \u001b[34mdownload_scripts\u001b[m\u001b[m/\r\n",
            "\u001b[34mTCGA-lung-WSI-corrupt\u001b[m\u001b[m/ \u001b[34mnames_and_links\u001b[m\u001b[m/\r\n"
          ]
        }
      ],
      "source": [
        "%ls .."
      ]
    },
    {
      "cell_type": "code",
      "execution_count": null,
      "id": "e000f3b5",
      "metadata": {
        "id": "e000f3b5",
        "outputId": "57def1f7-9808-4eac-b363-d5fb9998d750"
      },
      "outputs": [
        {
          "data": {
            "text/html": [
              "<div>\n",
              "<style scoped>\n",
              "    .dataframe tbody tr th:only-of-type {\n",
              "        vertical-align: middle;\n",
              "    }\n",
              "\n",
              "    .dataframe tbody tr th {\n",
              "        vertical-align: top;\n",
              "    }\n",
              "\n",
              "    .dataframe thead th {\n",
              "        text-align: right;\n",
              "    }\n",
              "</style>\n",
              "<table border=\"1\" class=\"dataframe\">\n",
              "  <thead>\n",
              "    <tr style=\"text-align: right;\">\n",
              "      <th></th>\n",
              "      <th>Name</th>\n",
              "      <th>URL</th>\n",
              "      <th>URL_for_download</th>\n",
              "    </tr>\n",
              "  </thead>\n",
              "  <tbody>\n",
              "    <tr>\n",
              "      <th>0</th>\n",
              "      <td>TEST_ID.csv</td>\n",
              "      <td>https://drive.google.com/file/d/1NtAfvdO8XleSz...</td>\n",
              "      <td>https://drive.google.com/uc?id=1NtAfvdO8XleSz5...</td>\n",
              "    </tr>\n",
              "    <tr>\n",
              "      <th>1</th>\n",
              "      <td>EX_ID.csv</td>\n",
              "      <td>https://drive.google.com/file/d/19ouB3ljmRgjof...</td>\n",
              "      <td>https://drive.google.com/uc?id=19ouB3ljmRgjofy...</td>\n",
              "    </tr>\n",
              "    <tr>\n",
              "      <th>2</th>\n",
              "      <td>LUAD_ID.csv</td>\n",
              "      <td>https://drive.google.com/file/d/1r9umLn7Xe7e5-...</td>\n",
              "      <td>https://drive.google.com/uc?id=1r9umLn7Xe7e5-R...</td>\n",
              "    </tr>\n",
              "    <tr>\n",
              "      <th>3</th>\n",
              "      <td>LUSC_ID.csv</td>\n",
              "      <td>https://drive.google.com/file/d/19M5aO0xbZj-nb...</td>\n",
              "      <td>https://drive.google.com/uc?id=19M5aO0xbZj-nbE...</td>\n",
              "    </tr>\n",
              "  </tbody>\n",
              "</table>\n",
              "</div>"
            ],
            "text/plain": [
              "          Name                                                URL  \\\n",
              "0  TEST_ID.csv  https://drive.google.com/file/d/1NtAfvdO8XleSz...   \n",
              "1    EX_ID.csv  https://drive.google.com/file/d/19ouB3ljmRgjof...   \n",
              "2  LUAD_ID.csv  https://drive.google.com/file/d/1r9umLn7Xe7e5-...   \n",
              "3  LUSC_ID.csv  https://drive.google.com/file/d/19M5aO0xbZj-nb...   \n",
              "\n",
              "                                    URL_for_download  \n",
              "0  https://drive.google.com/uc?id=1NtAfvdO8XleSz5...  \n",
              "1  https://drive.google.com/uc?id=19ouB3ljmRgjofy...  \n",
              "2  https://drive.google.com/uc?id=1r9umLn7Xe7e5-R...  \n",
              "3  https://drive.google.com/uc?id=19M5aO0xbZj-nbE...  "
            ]
          },
          "execution_count": 36,
          "metadata": {},
          "output_type": "execute_result"
        }
      ],
      "source": [
        "df_ids = pd.read_csv(\"../names_and_links/TCGA-lung-IDs.csv\")\n",
        "df_ids"
      ]
    },
    {
      "cell_type": "code",
      "execution_count": null,
      "id": "9c80d67b",
      "metadata": {
        "id": "9c80d67b",
        "outputId": "69072e35-cd24-4d97-ce37-4c697bc1ff91"
      },
      "outputs": [
        {
          "data": {
            "text/plain": [
              "'https://drive.google.com/uc?id=1NtAfvdO8XleSz5Xrw_P6sbF4NHfX2Oa9'"
            ]
          },
          "execution_count": 39,
          "metadata": {},
          "output_type": "execute_result"
        }
      ],
      "source": [
        "def change_format(url):\n",
        "    l = url.split('/')\n",
        "    url_for_download = \"https://drive.google.com/uc?id=\" + l[5]\n",
        "    return url_for_download\n",
        "    \n",
        "change_format(df_ids['URL'][0])"
      ]
    },
    {
      "cell_type": "code",
      "execution_count": null,
      "id": "a3d51d95",
      "metadata": {
        "id": "a3d51d95",
        "outputId": "27e150f7-9c98-4365-c91f-223c2c8e94df"
      },
      "outputs": [
        {
          "data": {
            "text/html": [
              "<div>\n",
              "<style scoped>\n",
              "    .dataframe tbody tr th:only-of-type {\n",
              "        vertical-align: middle;\n",
              "    }\n",
              "\n",
              "    .dataframe tbody tr th {\n",
              "        vertical-align: top;\n",
              "    }\n",
              "\n",
              "    .dataframe thead th {\n",
              "        text-align: right;\n",
              "    }\n",
              "</style>\n",
              "<table border=\"1\" class=\"dataframe\">\n",
              "  <thead>\n",
              "    <tr style=\"text-align: right;\">\n",
              "      <th></th>\n",
              "      <th>Name</th>\n",
              "      <th>URL</th>\n",
              "      <th>URL_for_download</th>\n",
              "    </tr>\n",
              "  </thead>\n",
              "  <tbody>\n",
              "    <tr>\n",
              "      <th>0</th>\n",
              "      <td>TEST_ID.csv</td>\n",
              "      <td>https://drive.google.com/file/d/1NtAfvdO8XleSz...</td>\n",
              "      <td>https://drive.google.com/uc?id=1NtAfvdO8XleSz5...</td>\n",
              "    </tr>\n",
              "    <tr>\n",
              "      <th>1</th>\n",
              "      <td>EX_ID.csv</td>\n",
              "      <td>https://drive.google.com/file/d/19ouB3ljmRgjof...</td>\n",
              "      <td>https://drive.google.com/uc?id=19ouB3ljmRgjofy...</td>\n",
              "    </tr>\n",
              "    <tr>\n",
              "      <th>2</th>\n",
              "      <td>LUAD_ID.csv</td>\n",
              "      <td>https://drive.google.com/file/d/1r9umLn7Xe7e5-...</td>\n",
              "      <td>https://drive.google.com/uc?id=1r9umLn7Xe7e5-R...</td>\n",
              "    </tr>\n",
              "    <tr>\n",
              "      <th>3</th>\n",
              "      <td>LUSC_ID.csv</td>\n",
              "      <td>https://drive.google.com/file/d/19M5aO0xbZj-nb...</td>\n",
              "      <td>https://drive.google.com/uc?id=19M5aO0xbZj-nbE...</td>\n",
              "    </tr>\n",
              "  </tbody>\n",
              "</table>\n",
              "</div>"
            ],
            "text/plain": [
              "          Name                                                URL  \\\n",
              "0  TEST_ID.csv  https://drive.google.com/file/d/1NtAfvdO8XleSz...   \n",
              "1    EX_ID.csv  https://drive.google.com/file/d/19ouB3ljmRgjof...   \n",
              "2  LUAD_ID.csv  https://drive.google.com/file/d/1r9umLn7Xe7e5-...   \n",
              "3  LUSC_ID.csv  https://drive.google.com/file/d/19M5aO0xbZj-nb...   \n",
              "\n",
              "                                    URL_for_download  \n",
              "0  https://drive.google.com/uc?id=1NtAfvdO8XleSz5...  \n",
              "1  https://drive.google.com/uc?id=19ouB3ljmRgjofy...  \n",
              "2  https://drive.google.com/uc?id=1r9umLn7Xe7e5-R...  \n",
              "3  https://drive.google.com/uc?id=19M5aO0xbZj-nbE...  "
            ]
          },
          "execution_count": 9,
          "metadata": {},
          "output_type": "execute_result"
        }
      ],
      "source": [
        "df_ids['URL_for_download'] = df_ids['URL'].apply(change_format)\n",
        "df_ids"
      ]
    },
    {
      "cell_type": "code",
      "execution_count": null,
      "id": "532db88a",
      "metadata": {
        "id": "532db88a"
      },
      "outputs": [],
      "source": [
        "df_ids.to_csv(\"../names_and_links/TCGA-lung-IDs.csv\", index=False)"
      ]
    },
    {
      "cell_type": "code",
      "execution_count": null,
      "id": "5ed20e2e",
      "metadata": {
        "id": "5ed20e2e",
        "outputId": "7d6bde9d-5087-47d7-9977-c580310cd3f0"
      },
      "outputs": [
        {
          "data": {
            "text/html": [
              "<div>\n",
              "<style scoped>\n",
              "    .dataframe tbody tr th:only-of-type {\n",
              "        vertical-align: middle;\n",
              "    }\n",
              "\n",
              "    .dataframe tbody tr th {\n",
              "        vertical-align: top;\n",
              "    }\n",
              "\n",
              "    .dataframe thead th {\n",
              "        text-align: right;\n",
              "    }\n",
              "</style>\n",
              "<table border=\"1\" class=\"dataframe\">\n",
              "  <thead>\n",
              "    <tr style=\"text-align: right;\">\n",
              "      <th></th>\n",
              "      <th>Name</th>\n",
              "      <th>URL</th>\n",
              "      <th>URL_for_download</th>\n",
              "    </tr>\n",
              "  </thead>\n",
              "  <tbody>\n",
              "    <tr>\n",
              "      <th>0</th>\n",
              "      <td>TEST_ID.csv</td>\n",
              "      <td>https://drive.google.com/file/d/1NtAfvdO8XleSz...</td>\n",
              "      <td>https://drive.google.com/uc?id=1NtAfvdO8XleSz5...</td>\n",
              "    </tr>\n",
              "    <tr>\n",
              "      <th>1</th>\n",
              "      <td>EX_ID.csv</td>\n",
              "      <td>https://drive.google.com/file/d/19ouB3ljmRgjof...</td>\n",
              "      <td>https://drive.google.com/uc?id=19ouB3ljmRgjofy...</td>\n",
              "    </tr>\n",
              "    <tr>\n",
              "      <th>2</th>\n",
              "      <td>LUAD_ID.csv</td>\n",
              "      <td>https://drive.google.com/file/d/1r9umLn7Xe7e5-...</td>\n",
              "      <td>https://drive.google.com/uc?id=1r9umLn7Xe7e5-R...</td>\n",
              "    </tr>\n",
              "    <tr>\n",
              "      <th>3</th>\n",
              "      <td>LUSC_ID.csv</td>\n",
              "      <td>https://drive.google.com/file/d/19M5aO0xbZj-nb...</td>\n",
              "      <td>https://drive.google.com/uc?id=19M5aO0xbZj-nbE...</td>\n",
              "    </tr>\n",
              "  </tbody>\n",
              "</table>\n",
              "</div>"
            ],
            "text/plain": [
              "          Name                                                URL  \\\n",
              "0  TEST_ID.csv  https://drive.google.com/file/d/1NtAfvdO8XleSz...   \n",
              "1    EX_ID.csv  https://drive.google.com/file/d/19ouB3ljmRgjof...   \n",
              "2  LUAD_ID.csv  https://drive.google.com/file/d/1r9umLn7Xe7e5-...   \n",
              "3  LUSC_ID.csv  https://drive.google.com/file/d/19M5aO0xbZj-nb...   \n",
              "\n",
              "                                    URL_for_download  \n",
              "0  https://drive.google.com/uc?id=1NtAfvdO8XleSz5...  \n",
              "1  https://drive.google.com/uc?id=19ouB3ljmRgjofy...  \n",
              "2  https://drive.google.com/uc?id=1r9umLn7Xe7e5-R...  \n",
              "3  https://drive.google.com/uc?id=19M5aO0xbZj-nbE...  "
            ]
          },
          "execution_count": 41,
          "metadata": {},
          "output_type": "execute_result"
        }
      ],
      "source": [
        "df_ids = pd.read_csv(\"../names_and_links/TCGA-lung-IDs.csv\")\n",
        "df_ids"
      ]
    },
    {
      "cell_type": "code",
      "execution_count": null,
      "id": "e525beb9",
      "metadata": {
        "id": "e525beb9",
        "outputId": "b420b1bb-c4ab-4990-bf7c-7cb1449de449"
      },
      "outputs": [
        {
          "name": "stdout",
          "output_type": "stream",
          "text": [
            "https://drive.google.com/uc?id=1NtAfvdO8XleSz5Xrw_P6sbF4NHfX2Oa9 TEST_ID.csv\n",
            "https://drive.google.com/uc?id=19ouB3ljmRgjofyegkytcBPCoCskt9Bgo EX_ID.csv\n",
            "https://drive.google.com/uc?id=1r9umLn7Xe7e5-RjF0vusDap8fCBAV445 LUAD_ID.csv\n",
            "https://drive.google.com/uc?id=19M5aO0xbZj-nbEEAiMHFxisAmIaFUqbH LUSC_ID.csv\n"
          ]
        }
      ],
      "source": [
        "for url, name in zip(df_ids['URL_for_download'], df_ids['Name']):\n",
        "    print(url, name)"
      ]
    },
    {
      "cell_type": "code",
      "execution_count": null,
      "id": "83619a12",
      "metadata": {
        "id": "83619a12",
        "outputId": "75dd2698-25ad-4ddd-a2a5-b7331a32807d"
      },
      "outputs": [
        {
          "name": "stdout",
          "output_type": "stream",
          "text": [
            "Inspect-Links.ipynb     create_record_files.py  download_ids.py\r\n"
          ]
        }
      ],
      "source": [
        "%ls"
      ]
    },
    {
      "cell_type": "code",
      "execution_count": null,
      "id": "5c9cc960",
      "metadata": {
        "id": "5c9cc960"
      },
      "outputs": [],
      "source": [
        "import gdown"
      ]
    },
    {
      "cell_type": "code",
      "execution_count": null,
      "id": "a7cacc29",
      "metadata": {
        "id": "a7cacc29",
        "outputId": "295046c7-0ce8-42d8-b9f1-528fcb9c0155"
      },
      "outputs": [
        {
          "name": "stdout",
          "output_type": "stream",
          "text": [
            "Help on function download in module gdown.download:\n",
            "\n",
            "download(url=None, output=None, quiet=False, proxy=None, speed=None, use_cookies=True, verify=True, id=None, fuzzy=False, resume=False)\n",
            "    Download file from URL.\n",
            "    \n",
            "    Parameters\n",
            "    ----------\n",
            "    url: str\n",
            "        URL. Google Drive URL is also supported.\n",
            "    output: str\n",
            "        Output filename. Default is basename of URL.\n",
            "    quiet: bool\n",
            "        Suppress terminal output. Default is False.\n",
            "    proxy: str\n",
            "        Proxy.\n",
            "    speed: float\n",
            "        Download byte size per second (e.g., 256KB/s = 256 * 1024).\n",
            "    use_cookies: bool\n",
            "        Flag to use cookies. Default is True.\n",
            "    verify: bool or string\n",
            "        Either a bool, in which case it controls whether the server's TLS\n",
            "        certificate is verified, or a string, in which case it must be a path\n",
            "        to a CA bundle to use. Default is True.\n",
            "    id: str\n",
            "        Google Drive's file ID.\n",
            "    fuzzy: bool\n",
            "        Fuzzy extraction of Google Drive's file Id. Default is False.\n",
            "    resume: bool\n",
            "        Resume the download from existing tmp file if possible.\n",
            "        Default is False.\n",
            "    \n",
            "    Returns\n",
            "    -------\n",
            "    output: str\n",
            "        Output filename.\n",
            "\n"
          ]
        }
      ],
      "source": [
        "help(gdown.download)"
      ]
    },
    {
      "cell_type": "code",
      "execution_count": null,
      "id": "f0645e10",
      "metadata": {
        "id": "f0645e10",
        "outputId": "a701bb85-b7c6-4e9d-82eb-1ed43f030343"
      },
      "outputs": [
        {
          "name": "stdout",
          "output_type": "stream",
          "text": [
            "https://drive.google.com/uc?id=1NtAfvdO8XleSz5Xrw_P6sbF4NHfX2Oa9 TEST_ID.csv\n"
          ]
        },
        {
          "name": "stderr",
          "output_type": "stream",
          "text": [
            "Downloading...\n",
            "From: https://drive.google.com/uc?id=1NtAfvdO8XleSz5Xrw_P6sbF4NHfX2Oa9\n",
            "To: /Users/gbatch/Documents/projects/current/TCGA_lung/TEST_ID.csv\n",
            "100%|███████████████████████████████████████████████████████████████████████████████████████████████████████████████████| 5.59k/5.59k [00:00<00:00, 4.58MB/s]\n"
          ]
        },
        {
          "name": "stdout",
          "output_type": "stream",
          "text": [
            "https://drive.google.com/uc?id=19ouB3ljmRgjofyegkytcBPCoCskt9Bgo EX_ID.csv\n"
          ]
        },
        {
          "name": "stderr",
          "output_type": "stream",
          "text": [
            "Downloading...\n",
            "From: https://drive.google.com/uc?id=19ouB3ljmRgjofyegkytcBPCoCskt9Bgo\n",
            "To: /Users/gbatch/Documents/projects/current/TCGA_lung/EX_ID.csv\n",
            "100%|████████████████████████████████████████████████████████████████████████████████████████████████████████████████████████| 253/253 [00:00<00:00, 393kB/s]\n"
          ]
        },
        {
          "name": "stdout",
          "output_type": "stream",
          "text": [
            "https://drive.google.com/uc?id=1r9umLn7Xe7e5-RjF0vusDap8fCBAV445 LUAD_ID.csv\n"
          ]
        },
        {
          "name": "stderr",
          "output_type": "stream",
          "text": [
            "Downloading...\n",
            "From: https://drive.google.com/uc?id=1r9umLn7Xe7e5-RjF0vusDap8fCBAV445\n",
            "To: /Users/gbatch/Documents/projects/current/TCGA_lung/LUAD_ID.csv\n",
            "100%|███████████████████████████████████████████████████████████████████████████████████████████████████████████████████| 13.3k/13.3k [00:00<00:00, 1.96MB/s]\n"
          ]
        },
        {
          "name": "stdout",
          "output_type": "stream",
          "text": [
            "https://drive.google.com/uc?id=19M5aO0xbZj-nbEEAiMHFxisAmIaFUqbH LUSC_ID.csv\n"
          ]
        },
        {
          "name": "stderr",
          "output_type": "stream",
          "text": [
            "Downloading...\n",
            "From: https://drive.google.com/uc?id=19M5aO0xbZj-nbEEAiMHFxisAmIaFUqbH\n",
            "To: /Users/gbatch/Documents/projects/current/TCGA_lung/LUSC_ID.csv\n",
            "100%|███████████████████████████████████████████████████████████████████████████████████████████████████████████████████| 12.8k/12.8k [00:00<00:00, 14.6MB/s]\n"
          ]
        }
      ],
      "source": [
        "# file\n",
        "for url, name in zip(df_ids['URL_for_download'], df_ids['Name']):\n",
        "    print(url, name)\n",
        "    gdown.download(url=url, output=f'../{name}', quiet=False)"
      ]
    },
    {
      "cell_type": "code",
      "execution_count": null,
      "id": "6db87794",
      "metadata": {
        "id": "6db87794",
        "outputId": "5da503c3-4183-4827-dc6b-76c7c67e1fa0"
      },
      "outputs": [
        {
          "name": "stdout",
          "output_type": "stream",
          "text": [
            "Inspect-Links.ipynb\r\n"
          ]
        }
      ],
      "source": [
        "%ls"
      ]
    },
    {
      "cell_type": "code",
      "execution_count": null,
      "id": "795f6dff",
      "metadata": {
        "id": "795f6dff",
        "outputId": "a107cc9a-d7e4-4cd0-d4dc-310176b84314"
      },
      "outputs": [
        {
          "data": {
            "text/html": [
              "<div>\n",
              "<style scoped>\n",
              "    .dataframe tbody tr th:only-of-type {\n",
              "        vertical-align: middle;\n",
              "    }\n",
              "\n",
              "    .dataframe tbody tr th {\n",
              "        vertical-align: top;\n",
              "    }\n",
              "\n",
              "    .dataframe thead th {\n",
              "        text-align: right;\n",
              "    }\n",
              "</style>\n",
              "<table border=\"1\" class=\"dataframe\">\n",
              "  <thead>\n",
              "    <tr style=\"text-align: right;\">\n",
              "      <th></th>\n",
              "      <th>Name</th>\n",
              "      <th>URL</th>\n",
              "    </tr>\n",
              "  </thead>\n",
              "  <tbody>\n",
              "    <tr>\n",
              "      <th>0</th>\n",
              "      <td>eb2b99a0-c071-47b6-8e96-3a87114f84ac</td>\n",
              "      <td>https://drive.google.com/drive/folders/1SzAmwe...</td>\n",
              "    </tr>\n",
              "    <tr>\n",
              "      <th>1</th>\n",
              "      <td>f8ac5923-4633-4606-8aab-bbdc3238ce1e</td>\n",
              "      <td>https://drive.google.com/drive/folders/1WbawXE...</td>\n",
              "    </tr>\n",
              "    <tr>\n",
              "      <th>2</th>\n",
              "      <td>d236577c-da29-4d5c-ba46-d0079795d5d5</td>\n",
              "      <td>https://drive.google.com/drive/folders/1YCthDp...</td>\n",
              "    </tr>\n",
              "    <tr>\n",
              "      <th>3</th>\n",
              "      <td>d42ec882-899c-4feb-b412-182142f80d7d</td>\n",
              "      <td>https://drive.google.com/drive/folders/1gOPppC...</td>\n",
              "    </tr>\n",
              "    <tr>\n",
              "      <th>4</th>\n",
              "      <td>bff964c6-145e-448d-8093-b5ee975d7b83</td>\n",
              "      <td>https://drive.google.com/drive/folders/18fobAU...</td>\n",
              "    </tr>\n",
              "    <tr>\n",
              "      <th>5</th>\n",
              "      <td>77cbfa8e-6ef8-477c-8cce-e2b4a2aa873b</td>\n",
              "      <td>https://drive.google.com/drive/folders/1C8QXb_...</td>\n",
              "    </tr>\n",
              "    <tr>\n",
              "      <th>6</th>\n",
              "      <td>80e22a07-56c7-4a02-8858-77233358b789</td>\n",
              "      <td>https://drive.google.com/drive/folders/1IRTV0y...</td>\n",
              "    </tr>\n",
              "    <tr>\n",
              "      <th>7</th>\n",
              "      <td>c0b9dad4-1ec8-4541-afe3-27bfd087e348</td>\n",
              "      <td>https://drive.google.com/drive/folders/1eBZjFP...</td>\n",
              "    </tr>\n",
              "    <tr>\n",
              "      <th>8</th>\n",
              "      <td>5d1ddc4b-4425-4b20-881a-fe2c4374c9cb</td>\n",
              "      <td>https://drive.google.com/drive/folders/1lFHyGl...</td>\n",
              "    </tr>\n",
              "    <tr>\n",
              "      <th>9</th>\n",
              "      <td>2e405d74-1bf4-4b86-9b69-7f85774e5cad</td>\n",
              "      <td>https://drive.google.com/drive/folders/1xXICwh...</td>\n",
              "    </tr>\n",
              "  </tbody>\n",
              "</table>\n",
              "</div>"
            ],
            "text/plain": [
              "                                   Name  \\\n",
              "0  eb2b99a0-c071-47b6-8e96-3a87114f84ac   \n",
              "1  f8ac5923-4633-4606-8aab-bbdc3238ce1e   \n",
              "2  d236577c-da29-4d5c-ba46-d0079795d5d5   \n",
              "3  d42ec882-899c-4feb-b412-182142f80d7d   \n",
              "4  bff964c6-145e-448d-8093-b5ee975d7b83   \n",
              "5  77cbfa8e-6ef8-477c-8cce-e2b4a2aa873b   \n",
              "6  80e22a07-56c7-4a02-8858-77233358b789   \n",
              "7  c0b9dad4-1ec8-4541-afe3-27bfd087e348   \n",
              "8  5d1ddc4b-4425-4b20-881a-fe2c4374c9cb   \n",
              "9  2e405d74-1bf4-4b86-9b69-7f85774e5cad   \n",
              "\n",
              "                                                 URL  \n",
              "0  https://drive.google.com/drive/folders/1SzAmwe...  \n",
              "1  https://drive.google.com/drive/folders/1WbawXE...  \n",
              "2  https://drive.google.com/drive/folders/1YCthDp...  \n",
              "3  https://drive.google.com/drive/folders/1gOPppC...  \n",
              "4  https://drive.google.com/drive/folders/18fobAU...  \n",
              "5  https://drive.google.com/drive/folders/1C8QXb_...  \n",
              "6  https://drive.google.com/drive/folders/1IRTV0y...  \n",
              "7  https://drive.google.com/drive/folders/1eBZjFP...  \n",
              "8  https://drive.google.com/drive/folders/1lFHyGl...  \n",
              "9  https://drive.google.com/drive/folders/1xXICwh...  "
            ]
          },
          "execution_count": 27,
          "metadata": {},
          "output_type": "execute_result"
        }
      ],
      "source": [
        "df_corrupt = pd.read_csv(\"../names_and_links/TCGA-lung-WSI-corrupt.csv\")\n",
        "df_corrupt"
      ]
    },
    {
      "cell_type": "code",
      "execution_count": null,
      "id": "ab579ab2",
      "metadata": {
        "id": "ab579ab2",
        "outputId": "f4368fc2-aac3-435b-8b00-6284fea9b833"
      },
      "outputs": [
        {
          "name": "stdout",
          "output_type": "stream",
          "text": [
            "Help on function download_folder in module gdown.download_folder:\n",
            "\n",
            "download_folder(url=None, id=None, output=None, quiet=False, proxy=None, speed=None, use_cookies=True, remaining_ok=False)\n",
            "    Downloads entire folder from URL.\n",
            "    \n",
            "    Parameters\n",
            "    ----------\n",
            "    url: str\n",
            "        URL of the Google Drive folder.\n",
            "        Must be of the format 'https://drive.google.com/drive/folders/{url}'.\n",
            "    id: str\n",
            "        Google Drive's folder ID.\n",
            "    output: str, optional\n",
            "        String containing the path of the output folder.\n",
            "        Defaults to current working directory.\n",
            "    quiet: bool, optional\n",
            "        Suppress terminal output.\n",
            "    proxy: str, optional\n",
            "        Proxy.\n",
            "    speed: float, optional\n",
            "        Download byte size per second (e.g., 256KB/s = 256 * 1024).\n",
            "    use_cookies: bool, optional\n",
            "        Flag to use cookies. Default is True.\n",
            "    \n",
            "    Returns\n",
            "    -------\n",
            "    filenames: list of str\n",
            "        List of files downloaded, or None if failed.\n",
            "    \n",
            "    Example\n",
            "    -------\n",
            "    gdown.download_folder(\n",
            "        \"https://drive.google.com/drive/folders/\" +\n",
            "        \"1ZXEhzbLRLU1giKKRJkjm8N04cO_JoYE2\",\n",
            "        use_cookies=True\n",
            "    )\n",
            "\n"
          ]
        }
      ],
      "source": [
        "help(gdown.download_folder)"
      ]
    },
    {
      "cell_type": "code",
      "execution_count": null,
      "id": "00e445e2",
      "metadata": {
        "id": "00e445e2",
        "outputId": "30fb20b8-f987-4df4-c305-0248e0768553"
      },
      "outputs": [
        {
          "ename": "NameError",
          "evalue": "name 'df_corrupt' is not defined",
          "output_type": "error",
          "traceback": [
            "\u001b[0;31m---------------------------------------------------------------------------\u001b[0m",
            "\u001b[0;31mNameError\u001b[0m                                 Traceback (most recent call last)",
            "\u001b[0;32m/var/folders/lz/602r_tbj50jf1yw4jnmxbg9r0000gn/T/ipykernel_65964/133118820.py\u001b[0m in \u001b[0;36m<module>\u001b[0;34m\u001b[0m\n\u001b[0;32m----> 1\u001b[0;31m \u001b[0;32mfor\u001b[0m \u001b[0murl\u001b[0m\u001b[0;34m,\u001b[0m \u001b[0mname\u001b[0m \u001b[0;32min\u001b[0m \u001b[0mzip\u001b[0m\u001b[0;34m(\u001b[0m\u001b[0mdf_corrupt\u001b[0m\u001b[0;34m[\u001b[0m\u001b[0;34m'URL'\u001b[0m\u001b[0;34m]\u001b[0m\u001b[0;34m,\u001b[0m \u001b[0mdf_corrupt\u001b[0m\u001b[0;34m[\u001b[0m\u001b[0;34m'Name'\u001b[0m\u001b[0;34m]\u001b[0m\u001b[0;34m)\u001b[0m\u001b[0;34m:\u001b[0m\u001b[0;34m\u001b[0m\u001b[0;34m\u001b[0m\u001b[0m\n\u001b[0m\u001b[1;32m      2\u001b[0m     \u001b[0mprint\u001b[0m\u001b[0;34m(\u001b[0m\u001b[0murl\u001b[0m\u001b[0;34m,\u001b[0m \u001b[0mname\u001b[0m\u001b[0;34m)\u001b[0m\u001b[0;34m\u001b[0m\u001b[0;34m\u001b[0m\u001b[0m\n\u001b[1;32m      3\u001b[0m     \u001b[0mgdown\u001b[0m\u001b[0;34m.\u001b[0m\u001b[0mdownload_folder\u001b[0m\u001b[0;34m(\u001b[0m\u001b[0murl\u001b[0m\u001b[0;34m=\u001b[0m\u001b[0murl\u001b[0m\u001b[0;34m,\u001b[0m \u001b[0moutput\u001b[0m\u001b[0;34m=\u001b[0m\u001b[0;34mf'../TCGA-lung-WSI-corrupt/{name}'\u001b[0m\u001b[0;34m,\u001b[0m \u001b[0mquiet\u001b[0m\u001b[0;34m=\u001b[0m\u001b[0;32mTrue\u001b[0m\u001b[0;34m,\u001b[0m \u001b[0muse_cookies\u001b[0m\u001b[0;34m=\u001b[0m\u001b[0;32mFalse\u001b[0m\u001b[0;34m)\u001b[0m\u001b[0;34m\u001b[0m\u001b[0;34m\u001b[0m\u001b[0m\n",
            "\u001b[0;31mNameError\u001b[0m: name 'df_corrupt' is not defined"
          ]
        }
      ],
      "source": [
        "for url, name in zip(df_corrupt['URL'], df_corrupt['Name']):\n",
        "    print(url, name)\n",
        "    gdown.download_folder(url=url, output=f'../TCGA-lung-WSI-corrupt/{name}', quiet=True, use_cookies=False)"
      ]
    },
    {
      "cell_type": "code",
      "execution_count": null,
      "id": "14d7cb47",
      "metadata": {
        "id": "14d7cb47",
        "outputId": "6c253e14-151f-4dfc-926b-97035d6dc3aa"
      },
      "outputs": [
        {
          "name": "stdout",
          "output_type": "stream",
          "text": [
            "EX_ID.csv              \u001b[34mTCGA-lung-WSI\u001b[m\u001b[m/         \u001b[34mdownload_scripts\u001b[m\u001b[m/\r\n",
            "LUAD_ID.csv            \u001b[34mTCGA-lung-WSI-corrupt\u001b[m\u001b[m/ \u001b[34mdownload_status\u001b[m\u001b[m/\r\n",
            "LUSC_ID.csv            TEST_ID.csv            \u001b[34mnames_and_links\u001b[m\u001b[m/\r\n"
          ]
        }
      ],
      "source": [
        "%ls .."
      ]
    },
    {
      "cell_type": "code",
      "execution_count": null,
      "id": "378e92e5",
      "metadata": {
        "id": "378e92e5"
      },
      "outputs": [],
      "source": [
        "import os"
      ]
    },
    {
      "cell_type": "code",
      "execution_count": null,
      "id": "c73aec42",
      "metadata": {
        "id": "c73aec42",
        "outputId": "7e04135c-3900-4627-c57b-dd92598c91f7"
      },
      "outputs": [
        {
          "data": {
            "text/plain": [
              "True"
            ]
          },
          "execution_count": 49,
          "metadata": {},
          "output_type": "execute_result"
        }
      ],
      "source": [
        "os.path.exists(\"create_record_files.py\")"
      ]
    },
    {
      "cell_type": "code",
      "execution_count": null,
      "id": "d9db2df3",
      "metadata": {
        "id": "d9db2df3",
        "outputId": "a2fc486b-e8f3-4efd-86e4-c2316be93235"
      },
      "outputs": [
        {
          "data": {
            "text/plain": [
              "True"
            ]
          },
          "execution_count": 52,
          "metadata": {},
          "output_type": "execute_result"
        }
      ],
      "source": [
        "os.path.exists(\"../TCGA-lung-WSI-corrupt/\")"
      ]
    }
  ],
  "metadata": {
    "kernelspec": {
      "display_name": "Python [conda env:medical-cv-cpu] *",
      "language": "python",
      "name": "conda-env-medical-cv-cpu-py"
    },
    "language_info": {
      "codemirror_mode": {
        "name": "ipython",
        "version": 3
      },
      "file_extension": ".py",
      "mimetype": "text/x-python",
      "name": "python",
      "nbconvert_exporter": "python",
      "pygments_lexer": "ipython3",
      "version": "3.9.7"
    },
    "colab": {
      "provenance": [],
      "collapsed_sections": []
    }
  },
  "nbformat": 4,
  "nbformat_minor": 5
}